{
 "cells": [
  {
   "cell_type": "markdown",
   "id": "a7ce8ad2",
   "metadata": {},
   "source": [
    "Sorting a sequence file (FASTA or FASTQ file)\n",
    "Here we would like to a sequence file by sequence length. If we have the file which is small enough, we can load it all into memory at once as a list of SeqRecord objects, sort the list, and save it.\n",
    "\n",
    "But when we have a very large file which we can’t load it all into memory, we can use Bio.SeqIO.index() which we introduced in previous video (day 10 of 12 days of Biopython).\n",
    "\n",
    "We are going to show how to sort sequence files in both cases.\n",
    "\n",
    "Get data\n",
    "Orchid genome\n",
    "\n",
    "\n",
    "\n",
    "!wget https://raw.githubusercontent.com/biopython/biopython/master/Doc/examples/ls_orchid.fasta"
   ]
  },
  {
   "cell_type": "code",
   "execution_count": 2,
   "id": "8db367ee",
   "metadata": {},
   "outputs": [
    {
     "ename": "SyntaxError",
     "evalue": "invalid syntax (2189544007.py, line 1)",
     "output_type": "error",
     "traceback": [
      "\u001b[1;36m  Cell \u001b[1;32mIn[2], line 1\u001b[1;36m\u001b[0m\n\u001b[1;33m    curl -O https://raw.githubusercontent.com/biopython/biopython/master/Doc/examples/ls_orchid.fasta\u001b[0m\n\u001b[1;37m            ^\u001b[0m\n\u001b[1;31mSyntaxError\u001b[0m\u001b[1;31m:\u001b[0m invalid syntax\n"
     ]
    }
   ],
   "source": [
    "curl -O https://raw.githubusercontent.com/biopython/biopython/master/Doc/examples/ls_orchid.fasta\n"
   ]
  },
  {
   "cell_type": "code",
   "execution_count": 3,
   "id": "277ff8ac",
   "metadata": {},
   "outputs": [
    {
     "name": "stdout",
     "output_type": "stream",
     "text": [
      "File downloaded successfully.\n"
     ]
    }
   ],
   "source": [
    "import requests\n",
    "\n",
    "url = \"https://raw.githubusercontent.com/biopython/biopython/master/Doc/examples/ls_orchid.fasta\"\n",
    "response = requests.get(url)\n",
    "\n",
    "with open(\"ls_orchid.fasta\", \"wb\") as file:\n",
    "    file.write(response.content)\n",
    "\n",
    "print(\"File downloaded successfully.\")\n"
   ]
  },
  {
   "cell_type": "code",
   "execution_count": 4,
   "id": "e527f49c",
   "metadata": {},
   "outputs": [
    {
     "name": "stdout",
     "output_type": "stream",
     "text": [
      "740\n",
      "753\n",
      "748\n",
      "744\n",
      "733\n",
      "718\n",
      "730\n",
      "704\n",
      "740\n",
      "709\n",
      "700\n",
      "726\n",
      "753\n",
      "699\n",
      "658\n",
      "752\n",
      "726\n",
      "765\n",
      "755\n",
      "742\n",
      "762\n",
      "745\n",
      "750\n",
      "731\n",
      "741\n",
      "740\n",
      "727\n",
      "711\n",
      "743\n",
      "727\n",
      "757\n",
      "770\n",
      "767\n",
      "759\n",
      "750\n",
      "788\n",
      "774\n",
      "789\n",
      "688\n",
      "719\n",
      "743\n",
      "737\n",
      "728\n",
      "740\n",
      "696\n",
      "732\n",
      "731\n",
      "735\n",
      "720\n",
      "740\n",
      "629\n",
      "572\n",
      "587\n",
      "700\n",
      "636\n",
      "716\n",
      "592\n",
      "716\n",
      "733\n",
      "626\n",
      "737\n",
      "740\n",
      "574\n",
      "594\n",
      "610\n",
      "730\n",
      "641\n",
      "702\n",
      "733\n",
      "738\n",
      "736\n",
      "732\n",
      "745\n",
      "744\n",
      "738\n",
      "739\n",
      "740\n",
      "745\n",
      "695\n",
      "745\n",
      "743\n",
      "730\n",
      "706\n",
      "744\n",
      "742\n",
      "694\n",
      "712\n",
      "715\n",
      "688\n",
      "784\n",
      "721\n",
      "703\n",
      "744\n",
      "592\n"
     ]
    }
   ],
   "source": [
    "from Bio import SeqIO\n",
    "records = list(SeqIO.parse(\"ls_orchid.fasta\", \"fasta\"))\n",
    "for record in records:\n",
    "    print(len(record.seq))"
   ]
  },
  {
   "cell_type": "code",
   "execution_count": 5,
   "id": "03837b83",
   "metadata": {},
   "outputs": [
    {
     "data": {
      "text/plain": [
       "94"
      ]
     },
     "execution_count": 5,
     "metadata": {},
     "output_type": "execute_result"
    }
   ],
   "source": [
    "records.sort(key=lambda r: len(r)) # to sort in descending order (from largest sequence): key=lambda r: -len(r)\n",
    "SeqIO.write(records, \"sorted_orchids.fasta\", \"fasta\")"
   ]
  },
  {
   "cell_type": "code",
   "execution_count": 6,
   "id": "9223d0d5",
   "metadata": {},
   "outputs": [
    {
     "name": "stdout",
     "output_type": "stream",
     "text": [
      "572\n",
      "574\n",
      "587\n",
      "592\n",
      "592\n",
      "594\n",
      "610\n",
      "626\n",
      "629\n",
      "636\n",
      "641\n",
      "658\n",
      "688\n",
      "688\n",
      "694\n",
      "695\n",
      "696\n",
      "699\n",
      "700\n",
      "700\n",
      "702\n",
      "703\n",
      "704\n",
      "706\n",
      "709\n",
      "711\n",
      "712\n",
      "715\n",
      "716\n",
      "716\n",
      "718\n",
      "719\n",
      "720\n",
      "721\n",
      "726\n",
      "726\n",
      "727\n",
      "727\n",
      "728\n",
      "730\n",
      "730\n",
      "730\n",
      "731\n",
      "731\n",
      "732\n",
      "732\n",
      "733\n",
      "733\n",
      "733\n",
      "735\n",
      "736\n",
      "737\n",
      "737\n",
      "738\n",
      "738\n",
      "739\n",
      "740\n",
      "740\n",
      "740\n",
      "740\n",
      "740\n",
      "740\n",
      "740\n",
      "741\n",
      "742\n",
      "742\n",
      "743\n",
      "743\n",
      "743\n",
      "744\n",
      "744\n",
      "744\n",
      "744\n",
      "745\n",
      "745\n",
      "745\n",
      "745\n",
      "748\n",
      "750\n",
      "750\n",
      "752\n",
      "753\n",
      "753\n",
      "755\n",
      "757\n",
      "759\n",
      "762\n",
      "765\n",
      "767\n",
      "770\n",
      "774\n",
      "784\n",
      "788\n",
      "789\n"
     ]
    }
   ],
   "source": [
    "for record in records:\n",
    "    print(len(record.seq))"
   ]
  },
  {
   "cell_type": "markdown",
   "id": "e203fb7c",
   "metadata": {},
   "source": [
    "Working with big files"
   ]
  },
  {
   "cell_type": "code",
   "execution_count": 7,
   "id": "62ff1846",
   "metadata": {},
   "outputs": [
    {
     "data": {
      "text/plain": [
       "[(572, 'gi|2765606|emb|Z78481.1|PIZ78481'),\n",
       " (574, 'gi|2765595|emb|Z78470.1|PPZ78470'),\n",
       " (587, 'gi|2765605|emb|Z78480.1|PGZ78480'),\n",
       " (592, 'gi|2765564|emb|Z78439.1|PBZ78439'),\n",
       " (592, 'gi|2765601|emb|Z78476.1|PGZ78476'),\n",
       " (594, 'gi|2765594|emb|Z78469.1|PHZ78469'),\n",
       " (610, 'gi|2765593|emb|Z78468.1|PAZ78468'),\n",
       " (626, 'gi|2765598|emb|Z78473.1|PSZ78473'),\n",
       " (629, 'gi|2765607|emb|Z78482.1|PEZ78482'),\n",
       " (636, 'gi|2765603|emb|Z78478.1|PVZ78478'),\n",
       " (641, 'gi|2765591|emb|Z78466.1|PPZ78466'),\n",
       " (658, 'gi|2765643|emb|Z78518.1|CRZ78518'),\n",
       " (688, 'gi|2765569|emb|Z78444.1|PAZ78444'),\n",
       " (688, 'gi|2765619|emb|Z78494.1|PNZ78494'),\n",
       " (694, 'gi|2765572|emb|Z78447.1|PVZ78447'),\n",
       " (695, 'gi|2765579|emb|Z78454.1|PFZ78454'),\n",
       " (696, 'gi|2765613|emb|Z78488.1|PTZ78488'),\n",
       " (699, 'gi|2765644|emb|Z78519.1|CPZ78519'),\n",
       " (700, 'gi|2765604|emb|Z78479.1|PPZ78479'),\n",
       " (700, 'gi|2765647|emb|Z78522.1|CMZ78522'),\n",
       " (702, 'gi|2765590|emb|Z78465.1|PRZ78465'),\n",
       " (703, 'gi|2765566|emb|Z78441.1|PSZ78441'),\n",
       " (704, 'gi|2765650|emb|Z78525.1|CAZ78525'),\n",
       " (706, 'gi|2765575|emb|Z78450.1|PPZ78450'),\n",
       " (709, 'gi|2765648|emb|Z78523.1|CHZ78523'),\n",
       " (711, 'gi|2765630|emb|Z78505.1|PSZ78505'),\n",
       " (712, 'gi|2765571|emb|Z78446.1|PAZ78446'),\n",
       " (715, 'gi|2765570|emb|Z78445.1|PUZ78445'),\n",
       " (716, 'gi|2765600|emb|Z78475.1|PSZ78475'),\n",
       " (716, 'gi|2765602|emb|Z78477.1|PVZ78477'),\n",
       " (718, 'gi|2765652|emb|Z78527.1|CYZ78527'),\n",
       " (719, 'gi|2765618|emb|Z78493.1|PGZ78493'),\n",
       " (720, 'gi|2765609|emb|Z78484.1|PCZ78484'),\n",
       " (721, 'gi|2765567|emb|Z78442.1|PBZ78442'),\n",
       " (726, 'gi|2765641|emb|Z78516.1|CPZ78516'),\n",
       " (726, 'gi|2765646|emb|Z78521.1|CCZ78521'),\n",
       " (727, 'gi|2765628|emb|Z78503.1|PCZ78503'),\n",
       " (727, 'gi|2765631|emb|Z78506.1|PLZ78506'),\n",
       " (728, 'gi|2765615|emb|Z78490.1|PFZ78490'),\n",
       " (730, 'gi|2765576|emb|Z78451.1|PHZ78451'),\n",
       " (730, 'gi|2765592|emb|Z78467.1|PSZ78467'),\n",
       " (730, 'gi|2765651|emb|Z78526.1|CGZ78526'),\n",
       " (731, 'gi|2765611|emb|Z78486.1|PBZ78486'),\n",
       " (731, 'gi|2765634|emb|Z78509.1|PPZ78509'),\n",
       " (732, 'gi|2765586|emb|Z78461.1|PWZ78461'),\n",
       " (732, 'gi|2765612|emb|Z78487.1|PHZ78487'),\n",
       " (733, 'gi|2765589|emb|Z78464.1|PGZ78464'),\n",
       " (733, 'gi|2765599|emb|Z78474.1|PKZ78474'),\n",
       " (733, 'gi|2765654|emb|Z78529.1|CLZ78529'),\n",
       " (735, 'gi|2765610|emb|Z78485.1|PHZ78485'),\n",
       " (736, 'gi|2765587|emb|Z78462.1|PSZ78462'),\n",
       " (737, 'gi|2765597|emb|Z78472.1|PLZ78472'),\n",
       " (737, 'gi|2765616|emb|Z78491.1|PCZ78491'),\n",
       " (738, 'gi|2765583|emb|Z78458.1|PHZ78458'),\n",
       " (738, 'gi|2765588|emb|Z78463.1|PGZ78463'),\n",
       " (739, 'gi|2765582|emb|Z78457.1|PCZ78457'),\n",
       " (740, 'gi|2765581|emb|Z78456.1|PTZ78456'),\n",
       " (740, 'gi|2765596|emb|Z78471.1|PDZ78471'),\n",
       " (740, 'gi|2765608|emb|Z78483.1|PVZ78483'),\n",
       " (740, 'gi|2765614|emb|Z78489.1|PDZ78489'),\n",
       " (740, 'gi|2765632|emb|Z78507.1|PLZ78507'),\n",
       " (740, 'gi|2765649|emb|Z78524.1|CFZ78524'),\n",
       " (740, 'gi|2765658|emb|Z78533.1|CIZ78533'),\n",
       " (741, 'gi|2765633|emb|Z78508.1|PLZ78508'),\n",
       " (742, 'gi|2765573|emb|Z78448.1|PAZ78448'),\n",
       " (742, 'gi|2765638|emb|Z78513.1|PBZ78513'),\n",
       " (743, 'gi|2765577|emb|Z78452.1|PBZ78452'),\n",
       " (743, 'gi|2765617|emb|Z78492.1|PBZ78492'),\n",
       " (743, 'gi|2765629|emb|Z78504.1|PKZ78504'),\n",
       " (744, 'gi|2765565|emb|Z78440.1|PPZ78440'),\n",
       " (744, 'gi|2765574|emb|Z78449.1|PMZ78449'),\n",
       " (744, 'gi|2765584|emb|Z78459.1|PDZ78459'),\n",
       " (744, 'gi|2765655|emb|Z78530.1|CMZ78530'),\n",
       " (745, 'gi|2765578|emb|Z78453.1|PSZ78453'),\n",
       " (745, 'gi|2765580|emb|Z78455.1|PJZ78455'),\n",
       " (745, 'gi|2765585|emb|Z78460.1|PCZ78460'),\n",
       " (745, 'gi|2765636|emb|Z78511.1|PEZ78511'),\n",
       " (748, 'gi|2765656|emb|Z78531.1|CFZ78531'),\n",
       " (750, 'gi|2765623|emb|Z78498.1|PMZ78498'),\n",
       " (750, 'gi|2765635|emb|Z78510.1|PCZ78510'),\n",
       " (752, 'gi|2765642|emb|Z78517.1|CFZ78517'),\n",
       " (753, 'gi|2765645|emb|Z78520.1|CSZ78520'),\n",
       " (753, 'gi|2765657|emb|Z78532.1|CCZ78532'),\n",
       " (755, 'gi|2765639|emb|Z78514.1|PSZ78514'),\n",
       " (757, 'gi|2765627|emb|Z78502.1|PBZ78502'),\n",
       " (759, 'gi|2765624|emb|Z78499.1|PMZ78499'),\n",
       " (762, 'gi|2765637|emb|Z78512.1|PWZ78512'),\n",
       " (765, 'gi|2765640|emb|Z78515.1|MXZ78515'),\n",
       " (767, 'gi|2765625|emb|Z78500.1|PWZ78500'),\n",
       " (770, 'gi|2765626|emb|Z78501.1|PCZ78501'),\n",
       " (774, 'gi|2765621|emb|Z78496.1|PAZ78496'),\n",
       " (784, 'gi|2765568|emb|Z78443.1|PLZ78443'),\n",
       " (788, 'gi|2765622|emb|Z78497.1|PDZ78497'),\n",
       " (789, 'gi|2765620|emb|Z78495.1|PEZ78495')]"
      ]
     },
     "execution_count": 7,
     "metadata": {},
     "output_type": "execute_result"
    }
   ],
   "source": [
    "# Get the lengths and ids, and sort on length\n",
    "len_and_ids = sorted(\n",
    "    (len(rec), rec.id) for rec in SeqIO.parse(\"ls_orchid.fasta\", \"fasta\")\n",
    ")\n",
    "len_and_ids"
   ]
  },
  {
   "cell_type": "code",
   "execution_count": 8,
   "id": "c693e137",
   "metadata": {},
   "outputs": [],
   "source": [
    "ids = reversed([id for (length, id) in len_and_ids]) # reverse for descending order (from longest seq to smallest)\n",
    "del len_and_ids # free this memory"
   ]
  },
  {
   "cell_type": "code",
   "execution_count": 9,
   "id": "1ce0beef",
   "metadata": {},
   "outputs": [],
   "source": [
    "# index FASTA file\n",
    "record_index = SeqIO.index(\"ls_orchid.fasta\", \"fasta\")"
   ]
  },
  {
   "cell_type": "code",
   "execution_count": 10,
   "id": "5f2893eb",
   "metadata": {},
   "outputs": [
    {
     "data": {
      "text/plain": [
       "94"
      ]
     },
     "execution_count": 10,
     "metadata": {},
     "output_type": "execute_result"
    }
   ],
   "source": [
    "# grab sequence from indexed dict by sorted id\n",
    "records = (record_index[id] for id in ids) \n",
    "SeqIO.write(records, \"sorted.fasta\", \"fasta\")"
   ]
  },
  {
   "cell_type": "code",
   "execution_count": null,
   "id": "92fb7008",
   "metadata": {},
   "outputs": [],
   "source": []
  }
 ],
 "metadata": {
  "kernelspec": {
   "display_name": "Python 3 (ipykernel)",
   "language": "python",
   "name": "python3"
  },
  "language_info": {
   "codemirror_mode": {
    "name": "ipython",
    "version": 3
   },
   "file_extension": ".py",
   "mimetype": "text/x-python",
   "name": "python",
   "nbconvert_exporter": "python",
   "pygments_lexer": "ipython3",
   "version": "3.10.9"
  }
 },
 "nbformat": 4,
 "nbformat_minor": 5
}
